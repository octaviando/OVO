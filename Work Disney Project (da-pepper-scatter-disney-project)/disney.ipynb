{
 "cells": [
  {
   "attachments": {},
   "cell_type": "markdown",
   "metadata": {},
   "source": [
    "# Disney+ Movies and TV Shows #\n"
   ]
  },
  {
   "attachments": {},
   "cell_type": "markdown",
   "metadata": {},
   "source": [
    "You are working as Junior Data Analyst at Disney Plus. There is combined data on movies and TV shows. It is available in [Kaggle](https://www.kaggle.com/datasets/shivamb/disney-movies-and-tv-shows). \n",
    "\n",
    "The Content Manager wants you to clean the data and provide insights to answer some of the questions like:\n",
    "\n",
    "1. Identify the unique list of ratings. How many movies and tv shows are listed under each rating?\n",
    "2. What is the average duration of movies and tv shows?\n",
    "3. How many movies and tv shows have been released till now in Germany. Give the list year-wise.\n",
    "4. Which Director has directed the maximum number of movies and in which genre?\n",
    "\n",
    "The task has been handed over to you by your team lead in the data department. They expect you to apply your Python knowledge on strings, descriptive statistics and want you to <span style=\"color:#fc5a37\">build re-usable functions.</span>\n",
    "\n",
    "Your analysis will help the Content Manager at Disney Plus to make a decision on the direction and future investments the company makes in movies as well as TV shows and will influence what gets released. \n",
    "\n",
    "Also, your manager wants to use the functions himself and he is not code savvy. For him to understand the functions and re-use them, <span style=\"color:#fc5a37\">add DocStrings to your functions</span> mentioning what it does, expected inputs along with their default values and expected outputs.\n",
    "\n",
    "There are expected outputs mentioned for few of the cells for you to confirm that you are on right track. \n",
    "\n",
    "You might have to refer to Python documentation. "
   ]
  },
  {
   "attachments": {},
   "cell_type": "markdown",
   "metadata": {},
   "source": [
    "## Data dictionary ##\n",
    "\n",
    "1. show_id - Unique id\n",
    "2. type - Movie or TV Show\n",
    "3. title - Name of the movie/show\n",
    "4. director - Directors of the movie/show\n",
    "5. cast - Main cast of the movie/show\n",
    "6. country - Country of production\n",
    "7. date_Added - Date added on Disney+\n",
    "8. release_year - Original Release Year of the movie/tv show\n",
    "9. rating - Rating of the movie/show \n",
    "10. duration - Total duration of the movie/show\n",
    "11. listed_in - Genres in which the movie is listed\n",
    "12. description - One-Line content description"
   ]
  },
  {
   "attachments": {},
   "cell_type": "markdown",
   "metadata": {},
   "source": [
    "## Step 1: Read the file"
   ]
  },
  {
   "cell_type": "code",
   "execution_count": 1,
   "metadata": {},
   "outputs": [],
   "source": [
    "# This code block is pre-coded for you. You don't have to write anything in this one.\n",
    "\n",
    "from csv import reader #Package that reads the csv file.\n",
    "\n",
    "with open('./Data/disney_plus_titles.csv', encoding=\"utf-8\") as opened_file:\n",
    "    read_file = reader(opened_file)\n",
    "    data_list = list(read_file) # This stores the data in the list of lists format."
   ]
  },
  {
   "cell_type": "markdown",
   "metadata": {},
   "source": [
    "Extract the header (column names) which is first row in data_list in `data_header` and keep rest other rows (except header) in `data`. \n",
    "\n",
    "Hint: How would you access the first element of a list?"
   ]
  },
  {
   "cell_type": "code",
   "execution_count": 2,
   "metadata": {},
   "outputs": [],
   "source": [
    "# Complete this code block\n",
    "data_header = data_list[0]\n",
    "data = data_list[1:]"
   ]
  },
  {
   "cell_type": "code",
   "execution_count": 3,
   "metadata": {},
   "outputs": [
    {
     "name": "stdout",
     "output_type": "stream",
     "text": [
      "['show_id', 'type', 'title', 'director', 'cast', 'country', 'date_added', 'release_year', 'rating', 'duration', 'listed_in', 'description']\n"
     ]
    }
   ],
   "source": [
    "# print the column names of given data. \n",
    "print(data_header)"
   ]
  },
  {
   "cell_type": "markdown",
   "metadata": {},
   "source": [
    "## Step 2: Create function `explore_data` to explore data ##"
   ]
  },
  {
   "attachments": {},
   "cell_type": "markdown",
   "metadata": {},
   "source": [
    "### Function description and output overview\n",
    "The function `explore_data` should print the following:\n",
    "1. Selected rows from start to end.\n",
    "2. Number of rows and columns if chosen to do so.\n",
    "\n",
    "The function will take following parameters as input\n",
    "1. `my_data_local`\n",
    "2. `start_row_local`\n",
    "3. `end_row_local`\n",
    "4. `rows_and_columns_local` a boolean to check if you want to display total number of rows and columns. \n",
    "\n",
    "For example, I want to display first five rows and also want to display total number of rows and columns in the input data. \n",
    "\n",
    "So I will call this function as `explore_data(data,0,5,True)`and the expected output is:\n",
    "\n",
    "<style>\n",
    "    .code_block {\n",
    "        background-color: #ff795c;\n",
    "        color: white;\n",
    "    }\n",
    "</style>\n",
    "\n",
    "<div class=\"code_block\">\n",
    "\n",
    "['s1', 'Movie - Animation', 'Duck the Halls: A Mickey Mouse Christmas Special', 'Alonso Ramirez Ramos, Dave Wasson', 'Chris Diamantopoulos, Tony Anselmo, Tress MacNeille, Bill Farmer, Russi Taylor, Corey Burton', '', 'November 26, 2021', '2016', 'TV-G', '23 min', 'Animation, Family', 'Join Mickey and the gang as they duck the halls!']\n",
    "\n",
    "\n",
    "['s2', 'Movie-Comedy', 'Ernest Saves Christmas', 'John Cherry', 'Jim Varney, Noelle Parker, Douglas Seale', '', 'November 26, 2021', '1988', 'PG', '91 min', 'Comedy', 'Santa Claus passes his magic bag to a new St. Nic.']\n",
    "\n",
    "\n",
    "['s3', 'Movie', 'Ice Age: A Mammoth Christmas', 'Karen Disher', 'Raymond Albert Romano, John Leguizamo, Denis Leary, Queen Latifah', 'United States', 'November 26, 2021', '2011', 'TV-G', '23 min', 'Animation, Comedy, Family', \"Sid the Sloth is on Santa's naughty list.\"]\n",
    "\n",
    "\n",
    "['s4', 'Movie', 'The Queen Family Singalong', 'Hamish Hamilton', 'Darren Criss, Adam Lambert, Derek Hough, Alexander Jean, Fall Out Boy, Jimmie Allen', '', 'November 26, 2021', '2021', 'TV-PG', '41 min', 'Musical', 'This is real life, not just fantasy!']\n",
    "\n",
    "\n",
    "['s5', 'TV Show - Docuseries', 'The Beatles: Get Back', '', 'John Lennon, Paul McCartney, George Harrison, Ringo Starr', '', 'November 25, 2021', '2021', '', '1 Season', 'Docuseries, Historical, Music', 'A three-part documentary from Peter Jackson capturing a moment in music history with The Beatles.']\n",
    "\n",
    "\n",
    "no. of rows: 1450\n",
    "\n",
    "no. of columns: 12"
   ]
  },
  {
   "cell_type": "markdown",
   "metadata": {},
   "source": [
    "### Pseudocode\n",
    "[How to write Pseudocode](https://www.geeksforgeeks.org/how-to-write-a-pseudo-code/)\n",
    "\n",
    "Below is the Pseudocode for the function\n",
    "\n",
    "def explore_data(Give the parameters along with default values):\n",
    "\n",
    "  1. Slice the `my_data_local` using `start_row_local` and `end_row_local`. Remember data is a list.\n",
    "\n",
    "  2. Write a for loop to print each element in sliced data and adding a new empty line after each row using print('\\n').\n",
    "        \n",
    "  3. Write an `if statement` which checks for if user wants to display number of rows and columns. <b>\n",
    "If yes, then print:\n",
    "- the number of rows using `len` function on data\n",
    "- and number of columns using `len` function on the first element of data. "
   ]
  },
  {
   "cell_type": "markdown",
   "metadata": {},
   "source": [
    "### Function definition"
   ]
  },
  {
   "cell_type": "code",
   "execution_count": 4,
   "metadata": {},
   "outputs": [],
   "source": [
    "# Update the function definition based on the Pseudocode above\n",
    "def explore_data(my_data_local, start_row_local, end_row_local, rows_and_columns_local):\n",
    "    '''\n",
    "    This function explores the data. It takes following parameters as input:\n",
    "        1. Data\n",
    "        2. Start Row\n",
    "        3. End Row\n",
    "        4. A boolean to display number of rows and columns\n",
    "    It will print:\n",
    "        1. Required rows\n",
    "        2. Number of rows and columns if required.\n",
    "    '''\n",
    "    required_rows = my_data_local[start_row_local:end_row_local] # data slicing\n",
    "      \n",
    "    for elem in required_rows: # for loop\n",
    "        print(elem,'\\n')\n",
    "    \n",
    "    if rows_and_columns_local == True: # Boolean if statement for columns\n",
    "        no_of_rows = len(required_rows)\n",
    "        no_of_columns = len(my_data_local[0])\n",
    "        print(f'no. of rows: {no_of_rows} {'\\n'}no. of columns: {no_of_columns}')"
   ]
  },
  {
   "cell_type": "markdown",
   "metadata": {},
   "source": [
    "### Calling function to explore data\n",
    "\n",
    "Use `explore_data` function to display top 5 rows along with number of rows and columns."
   ]
  },
  {
   "cell_type": "code",
   "execution_count": 5,
   "metadata": {},
   "outputs": [
    {
     "name": "stdout",
     "output_type": "stream",
     "text": [
      "['s1', 'Movie - Animation', 'Duck the Halls: A Mickey Mouse Christmas Special', 'Alonso Ramirez Ramos, Dave Wasson', 'Chris Diamantopoulos, Tony Anselmo, Tress MacNeille, Bill Farmer, Russi Taylor, Corey Burton', '', 'November 26, 2021', '2016', 'TV-G', '23 min', 'Animation, Family', 'Join Mickey and the gang as they duck the halls!'] \n",
      "\n",
      "['s2', 'Movie-Comedy', 'Ernest Saves Christmas', 'John Cherry', 'Jim Varney, Noelle Parker, Douglas Seale', '', 'November 26, 2021', '1988', 'PG', '91 min', 'Comedy', 'Santa Claus passes his magic bag to a new St. Nic.'] \n",
      "\n",
      "['s3', 'Movie', 'Ice Age: A Mammoth Christmas', 'Karen Disher', 'Raymond Albert Romano, John Leguizamo, Denis Leary, Queen Latifah', 'United States', 'November 26, 2021', '2011', 'TV-G', '23 min', 'Animation, Comedy, Family', \"Sid the Sloth is on Santa's naughty list.\"] \n",
      "\n",
      "['s4', 'Movie', 'The Queen Family Singalong', 'Hamish Hamilton', 'Darren Criss, Adam Lambert, Derek Hough, Alexander Jean, Fall Out Boy, Jimmie Allen', '', 'November 26, 2021', '2021', 'TV-PG', '41 min', 'Musical', 'This is real life, not just fantasy!'] \n",
      "\n",
      "['s5', 'TV Show - Docuseries', 'The Beatles: Get Back', '', 'John Lennon, Paul McCartney, George Harrison, Ringo Starr', '', 'November 25, 2021', '2021', '', '1 Season', 'Docuseries, Historical, Music', 'A three-part documentary from Peter Jackson capturing a moment in music history with The Beatles.'] \n",
      "\n",
      "no. of rows: 5 \n",
      "no. of columns: 12\n"
     ]
    }
   ],
   "source": [
    "explore_data(data, 0, 5, True)"
   ]
  },
  {
   "attachments": {},
   "cell_type": "markdown",
   "metadata": {},
   "source": [
    "### last 5 rows\n",
    "\n",
    "Again use the `explore_data` function to display the last 5 rows. \n",
    "\n",
    "Use negative indexing for the start_row. \n",
    "\n",
    "For the end_row, modify your function definition to display until the last row. \n",
    "\n",
    "This time you don't have to display the number of rows and columns. \n",
    "\n",
    "Make sure that the `title` in the last row is <span style=\"color:#fc5a37\">'Captain Sparky vs. The Flying Saucers'.</span>"
   ]
  },
  {
   "cell_type": "code",
   "execution_count": 6,
   "metadata": {},
   "outputs": [
    {
     "data": {
      "text/plain": [
       "1450"
      ]
     },
     "execution_count": 6,
     "metadata": {},
     "output_type": "execute_result"
    }
   ],
   "source": [
    "len(data)"
   ]
  },
  {
   "cell_type": "code",
   "execution_count": 7,
   "metadata": {},
   "outputs": [
    {
     "name": "stdout",
     "output_type": "stream",
     "text": [
      "['s1445', 'Movie', 'Ice Age: Dawn Of The Dinosaurs', 'Carlos Saldanha', 'Ray Romano, John Leguizamo, Denis Leary, Simon Pegg, Seann William Scott, Josh Peck', 'United States, United Kingdom, Australia', 'June 4, 2021', '2009', 'PG', '97 min', 'Animation, Comedy, Family', 'Our prehistoric pals visit a world inhabited by dinosaurs and a one-eyed weasel named Buck.'] \n",
      "\n",
      "['s1446', 'Movie', 'X-Men Origins: Wolverine', 'Gavin Hood', 'Hugh Jackman, Liev Schreiber, Danny Huston, will.i.am , Lynn Collins, Kevin Durand', 'United States, United Kingdom', 'June 4, 2021', '2009', 'PG-13', '108 min', 'Action-Adventure, Family, Science Fiction', 'Wolverine unites with legendary X-Men to fight against forces determined to eliminate mutants.'] \n",
      "\n",
      "['s1447', 'Movie', 'Night at the Museum: Battle of the Smithsonian', 'Shawn Levy', 'Ben Stiller, Amy Adams, Owen Wilson, Hank Azaria, Christopher Guest, Alain Chabat', 'United States, Canada', 'April 2, 2021', '2009', 'PG', '106 min', 'Action-Adventure, Comedy, Family', 'Larry Daley returns to rescue some old friends while the Smithsonian Institution comes alive.'] \n",
      "\n",
      "['s1448', 'Movie', 'Eddie the Eagle', 'Dexter Fletcher', 'Tom Costello, Jo Hartley, Keith Allen, Dickon Tolson, Jack Costello, Taron Egerton', 'United Kingdom, Germany, United States', 'December 18, 2020', '2016', 'PG-13', '107 min', 'Biographical, Comedy, Drama', 'True story of Eddie Edwards, a British ski-jumper whose Olympic performance wins the hearts of fans.'] \n",
      "\n",
      "['s1449', 'Movie - Comedy', 'Bend It Like Beckham', 'Gurinder Chadha', 'Parminder Nagra, Keira Knightley, Jonathan Rhys-Meyers, Anupam Kher, Archie Panjabi, Shaznay Lewis', 'United Kingdom, Germany, United States', 'September 18, 2020', '2003', 'PG-13', '112 min', 'Buddy, Comedy, Coming of Age', 'Despite the wishes of their traditional families, two girls aim for careers in professional soccer.'] \n",
      "\n",
      "['s1450', 'Movie - Action', 'Captain Sparky vs. The Flying Saucers', 'Mark Waring', 'Charlie Tahan', 'United States', 'April 1, 2020', '2012', 'TV-G', '2 min', 'Action-Adventure, Animals & Nature, Animation', \"View one of Sparky's favorite home movies.\"] \n",
      "\n"
     ]
    }
   ],
   "source": [
    "explore_data(data, -6, len(data), False)"
   ]
  },
  {
   "attachments": {},
   "cell_type": "markdown",
   "metadata": {},
   "source": [
    "## Step 3: Separate Movies and TV Shows\n",
    "\n",
    "### Description\n",
    "Code a `for loop` to separate\n",
    "\n",
    "1. Movies to `disney_movies`\n",
    "2. TV Shows to `disney_shows`\n",
    "3. also check if there are any other than movies and shows. \n",
    "    \n",
    "So, if the `type` is `Movie - Animation` or `MOVIE-Comedy`, it should be in `disney_movies`.\n",
    "\n",
    "There could be many other combinations. So, if the `type`starts with `movie`it should be in `disney_movies`\n",
    "\n",
    "Similarly, for example, if the `type`is `TV Show - Docuseries` or `TV show - Season 1`, it should be in `disney_shows`. \n",
    "\n",
    "Rest other that do not start with `Movie`or `TV Show` should be classified as `disney_other`. \n",
    "\n",
    "NB: The entries for the `disney_movies`, `disney_shows`and `disney_other`should contain all the information regarding the entry. i.e. show_id, title, director,cast..."
   ]
  },
  {
   "cell_type": "markdown",
   "metadata": {},
   "source": [
    "### Pseudocode(example)\n",
    "\n",
    "Write a for loop to go through each row in the `data`\n",
    "\n",
    "- Convert the `type`to lower case. Because the `type`column is the second column, you will need to get the element at index 1 in each row. \n",
    "- Write an if else statement\n",
    "  - If title starts with <span style=\"color:#fc5a37\"> \"movie\" </span>\n",
    "    - Update the `type`to just <span style=\"color:#fc5a37\"> \"Movie\" </span>\n",
    "    - Append it to `disney_movies`\n",
    "  - Else, do the same with <span style=\"color:#fc5a37\"> \"tv\" </span> and append to `disney_shows`\n",
    "  - Anything else, should be appended to `disney_other`\n"
   ]
  },
  {
   "cell_type": "markdown",
   "metadata": {},
   "source": [
    "### Write code below"
   ]
  },
  {
   "cell_type": "code",
   "execution_count": 12,
   "metadata": {},
   "outputs": [],
   "source": [
    "# we create 3 new variables with empty lists in them\n",
    "disney_movies = []\n",
    "disney_shows = []\n",
    "disney_other = []\n",
    "\n",
    "# we run a for loop to go through the data\n",
    "for entry in data:\n",
    "    movietype = entry[1].lower() # we turn all letters to lower case\n",
    "    if movietype.startswith(\"movie\"): # if it starts with the reference string \n",
    "        entry[1] = \"Movie\" # we assign a new value to that entry\n",
    "        disney_movies.append(entry) # we add it to the created variable\n",
    "    elif movietype.startswith(\"tv\"): # same as before\n",
    "        entry[1] = \"TV Show\"\n",
    "        disney_shows.append(entry)\n",
    "    else:\n",
    "        disney_other.append(entry) "
   ]
  },
  {
   "attachments": {},
   "cell_type": "markdown",
   "metadata": {},
   "source": [
    "### Explore newly created datasets\n",
    "\n",
    "Explore all your new datasets created using your earlier created function. \n",
    "\n",
    "How many Movies and TV Shows are listed? \n",
    "\n",
    "Are there any other than Movies and TV Shows?\n",
    "\n",
    "Expected outputs:\n",
    "\n",
    "<style>\n",
    "    .code_block {\n",
    "        background-color: #ff795c;\n",
    "        color: white;\n",
    "    }\n",
    "</style>\n",
    "\n",
    "<div class=\"code_block\">\n",
    "\n",
    "Disney Movies:  1052\n",
    "\n",
    "Disney TV Shows:  398\n",
    "\n",
    "Disney Others:  0"
   ]
  },
  {
   "cell_type": "code",
   "execution_count": 13,
   "metadata": {},
   "outputs": [
    {
     "name": "stdout",
     "output_type": "stream",
     "text": [
      "Movies:  1052\n"
     ]
    }
   ],
   "source": [
    "# Movies\n",
    "\n",
    "print(\"Movies: \",len(disney_movies))"
   ]
  },
  {
   "cell_type": "code",
   "execution_count": 14,
   "metadata": {},
   "outputs": [
    {
     "name": "stdout",
     "output_type": "stream",
     "text": [
      "TV Shows:  398\n"
     ]
    }
   ],
   "source": [
    "# TV Shows\n",
    "\n",
    "print(\"TV Shows: \", len(disney_shows))"
   ]
  },
  {
   "cell_type": "code",
   "execution_count": 15,
   "metadata": {},
   "outputs": [
    {
     "name": "stdout",
     "output_type": "stream",
     "text": [
      "Others:  0\n"
     ]
    }
   ],
   "source": [
    "# Others\n",
    "\n",
    "print(\"Others: \", len(disney_other))"
   ]
  },
  {
   "cell_type": "markdown",
   "metadata": {},
   "source": [
    "## Step 4: Get a list of unique values in a column ##"
   ]
  },
  {
   "cell_type": "markdown",
   "metadata": {},
   "source": [
    "### Function description and output overview\n",
    "\n",
    "The function `list_of_elements` should print:\n",
    "  - The list of unique values in any required column\n",
    "\n",
    "The function will take the following as parameters:\n",
    "1. `my_data_local`\n",
    "2. `col_index_local`\n",
    "\n",
    "For example, I want to get unique values in `rating`column.\n",
    "I will call this function and the output will be:\n",
    "\n",
    "<style>\n",
    "    .code_block {\n",
    "        background-color: #ff795c;\n",
    "        color: white;\n",
    "    }\n",
    "</style>\n",
    "\n",
    "<div class=\"code_block\">\n",
    "['TV-G', 'PG', 'TV-PG', '', 'PG-13', 'TV-14', 'G', 'TV-Y7', 'TV-Y', 'TV-Y7-FV']\n"
   ]
  },
  {
   "cell_type": "markdown",
   "metadata": {},
   "source": [
    "### Pseudocode\n",
    "Below is the Pseudocode for the function\n",
    "\n",
    "def list_of_elements(Give the parameters along with default values):\n",
    "\n",
    "  1. Create an empty list and assign it to `result_list`\n",
    "\n",
    "  2. Write a for loop to iterate over each row element in `my_data_local`\n",
    "      - If element in the row at `col_index_local`is not in the `result_list`, append it.\n",
    "      \n",
    "  3. Return `result_list`"
   ]
  },
  {
   "attachments": {},
   "cell_type": "markdown",
   "metadata": {},
   "source": [
    "### Function definition"
   ]
  },
  {
   "cell_type": "code",
   "execution_count": 1,
   "metadata": {},
   "outputs": [
    {
     "ename": "NameError",
     "evalue": "name 'data_list' is not defined",
     "output_type": "error",
     "traceback": [
      "\u001b[1;31m---------------------------------------------------------------------------\u001b[0m",
      "\u001b[1;31mNameError\u001b[0m                                 Traceback (most recent call last)",
      "Cell \u001b[1;32mIn[1], line 1\u001b[0m\n\u001b[1;32m----> 1\u001b[0m \u001b[43mdata_list\u001b[49m\n",
      "\u001b[1;31mNameError\u001b[0m: name 'data_list' is not defined"
     ]
    }
   ],
   "source": []
  },
  {
   "cell_type": "code",
   "execution_count": 18,
   "metadata": {},
   "outputs": [],
   "source": [
    "# Update the function definition based on the Pseudocode above\n",
    "def list_of_elements(my_data_local,col_index_local):\n",
    "    '''\n",
    "    This function creates a list of the elements in a certain column of the local data\n",
    "    The parameters are:\n",
    "        1) my local data: the data source we want to use\n",
    "        2) the column index number (mind the index number for the 1st column is 0)\n",
    "    '''\n",
    "    result_list = []\n",
    "    for entry in my_data_local:\n",
    "        if entry[col_index_local] not in result_list:\n",
    "            result_list.append(entry[col_index_local])\n",
    "    return result_list"
   ]
  },
  {
   "cell_type": "markdown",
   "metadata": {},
   "source": [
    "### Calling function\n",
    "\n",
    "What is the column index of `rating`column?\n",
    "\n",
    "Use the above created function to generate the list of unique `rating` in the original dataset. "
   ]
  },
  {
   "cell_type": "code",
   "execution_count": 19,
   "metadata": {},
   "outputs": [
    {
     "data": {
      "text/plain": [
       "['TV-G', 'PG', 'TV-PG', '', 'PG-13', 'TV-14', 'G', 'TV-Y7', 'TV-Y', 'TV-Y7-FV']"
      ]
     },
     "execution_count": 19,
     "metadata": {},
     "output_type": "execute_result"
    }
   ],
   "source": [
    "list_of_elements(data, 8)"
   ]
  },
  {
   "attachments": {},
   "cell_type": "markdown",
   "metadata": {},
   "source": [
    "## Step 5: For each corresponding unique value in a column get the number of movies and shows. ##"
   ]
  },
  {
   "attachments": {},
   "cell_type": "markdown",
   "metadata": {},
   "source": [
    "### Function description and output overview\n",
    "\n",
    "The function `elements_count` should return:\n",
    "  - The key value pair where\n",
    "    - key is the unique element\n",
    "    - value is the count of movies or TV shows or both with that unique element\n",
    "\n",
    "The function will take the following as parameters:\n",
    "1. `my_data_local`\n",
    "2. `col_index_local`\n",
    "\n",
    "For example, I want to get unique values and corresponding count in `rating`column in `disney_movies`.\n",
    "I will call this function on `disney_movies` and the output will be:\n",
    "\n",
    "<style>\n",
    "    .code_block {\n",
    "        background-color: #ff795c;\n",
    "        color: white;\n",
    "    }\n",
    "</style>\n",
    "\n",
    "<div class=\"code_block\">\n",
    "{'G': 253, 'PG': 235, 'TV-G': 233, 'TV-PG': 181, 'PG-13': 66, 'TV-14': 37, 'TV-Y7': 36, 'TV-Y7-FV': 7, 'TV-Y': 3, '': 1}\n"
   ]
  },
  {
   "cell_type": "markdown",
   "metadata": {},
   "source": [
    "### Pseudocode\n",
    "Below is the Pseudocode for the function\n",
    "\n",
    "def elements_count(Give the parameters along with default values):\n",
    "\n",
    "  1. Create an empty dictionary and assign it to `element_count_dict`\n",
    "\n",
    "  2. Write a for loop to iterate over each row element in `my_data_local`\n",
    "      - If element in the row at `col_index_local`is not in the key of `element_count_dict`, add it and initialize the value to 1.\n",
    "      - If element in the row at `col_index_local`is in the `element_count_dict`, increment the value by 1.\n",
    "\n",
    "  3. Sort the dictionary based on the corresponding values in descending order. \n",
    "      Hint: you can look up the `lambda`function for sorting \n",
    "      \n",
    "  4. Return `element_count_dict`"
   ]
  },
  {
   "cell_type": "markdown",
   "metadata": {},
   "source": [
    "### Function definition"
   ]
  },
  {
   "cell_type": "code",
   "execution_count": 2,
   "metadata": {},
   "outputs": [],
   "source": [
    "# Update the function definition based on the Pseudocode above\n",
    "def elements_count(my_data_local, col_index_local):\n",
    "    '''\n",
    "    This function creates a dictionary with the count of all the elements in a certain column of the data.\n",
    "    The parameters are:\n",
    "        1) my local data: the data source we want to use\n",
    "        2) the column index number (mind the index number for the 1st column is 0)\n",
    "    Returns the created dictionary, sorted according to value in descending order.\n",
    "    '''\n",
    "    element_count_dict = {}\n",
    "    for entry in my_data_local:\n",
    "        category = entry[col_index_local]\n",
    "        if category not in element_count_dict:\n",
    "            element_count_dict[category] = 1\n",
    "        else:\n",
    "            element_count_dict[category] += 1\n",
    "    \n",
    "    sorted_elements_count = dict(sorted(element_count_dict.items(), key=lambda item: item[1], reverse = True)) # This will sort the above created dictionary based on the count values. Search for 'sorted python documentation' in Google and learn more on this.\n",
    "    return sorted_elements_count"
   ]
  },
  {
   "attachments": {},
   "cell_type": "markdown",
   "metadata": {},
   "source": [
    "### Calling function\n",
    "Print the Movie Ratings Count and TV Shows Ratings Count. \n",
    "\n",
    "You will have to call above function separately on `disney_movies`and `disney_shows`"
   ]
  },
  {
   "cell_type": "code",
   "execution_count": 21,
   "metadata": {},
   "outputs": [
    {
     "data": {
      "text/plain": [
       "{'TV-PG': 120,\n",
       " 'TV-Y7': 95,\n",
       " 'TV-G': 85,\n",
       " 'TV-Y': 47,\n",
       " 'TV-14': 42,\n",
       " 'TV-Y7-FV': 6,\n",
       " '': 2,\n",
       " 'PG': 1}"
      ]
     },
     "execution_count": 21,
     "metadata": {},
     "output_type": "execute_result"
    }
   ],
   "source": [
    "elements_count(disney_shows, 8)"
   ]
  },
  {
   "cell_type": "code",
   "execution_count": 22,
   "metadata": {},
   "outputs": [
    {
     "data": {
      "text/plain": [
       "{'G': 253,\n",
       " 'PG': 235,\n",
       " 'TV-G': 233,\n",
       " 'TV-PG': 181,\n",
       " 'PG-13': 66,\n",
       " 'TV-14': 37,\n",
       " 'TV-Y7': 36,\n",
       " 'TV-Y7-FV': 7,\n",
       " 'TV-Y': 3,\n",
       " '': 1}"
      ]
     },
     "execution_count": 22,
     "metadata": {},
     "output_type": "execute_result"
    }
   ],
   "source": [
    "elements_count(disney_movies, 8)"
   ]
  },
  {
   "attachments": {},
   "cell_type": "markdown",
   "metadata": {},
   "source": [
    "## Step 6: Get the list of categories for `listed_in` column ##\n",
    "\n",
    "Get the list of unique values in `listed_in` column. \n",
    "\n",
    "It's now a one line code. \n",
    "\n",
    "You have to just re-use one of the earlier created functions. \n",
    "\n",
    "Could you identify which one?"
   ]
  },
  {
   "cell_type": "code",
   "execution_count": 23,
   "metadata": {},
   "outputs": [
    {
     "data": {
      "text/plain": [
       "['Animation, Family',\n",
       " 'Comedy',\n",
       " 'Animation, Comedy, Family',\n",
       " 'Musical',\n",
       " 'Docuseries, Historical, Music',\n",
       " 'Biographical, Documentary',\n",
       " 'Action-Adventure, Superhero',\n",
       " 'Docuseries, Reality, Survival',\n",
       " 'Animals & Nature, Docuseries, Family',\n",
       " 'Comedy, Family, Musical',\n",
       " 'Documentary',\n",
       " 'Comedy, Family, Music',\n",
       " 'Documentary, Family',\n",
       " 'Action-Adventure, Animals & Nature, Docuseries',\n",
       " 'Animals & Nature',\n",
       " 'Animation',\n",
       " 'Animation, Kids',\n",
       " 'Comedy, Coming of Age, Drama',\n",
       " 'Comedy, Family, Fantasy',\n",
       " 'Animation, Comedy, Drama',\n",
       " 'Animation, Family, Fantasy',\n",
       " 'Action-Adventure, Animation, Comedy',\n",
       " 'Comedy, Family',\n",
       " 'Action-Adventure, Comedy, Family',\n",
       " 'Lifestyle',\n",
       " 'Movies',\n",
       " 'Action-Adventure, Science Fiction',\n",
       " 'Action-Adventure, Fantasy, Superhero',\n",
       " 'Coming of Age, Music',\n",
       " 'Animation, Drama',\n",
       " 'Concert Film, Music',\n",
       " 'Animation, Comedy, Coming of Age',\n",
       " 'Animation, Comedy',\n",
       " 'Animation, Crime, Family',\n",
       " 'Science Fiction',\n",
       " 'Action-Adventure, Fantasy',\n",
       " 'Comedy, Fantasy, Kids',\n",
       " 'Action-Adventure, Comedy, Kids',\n",
       " 'Drama, Family, Fantasy',\n",
       " 'Action-Adventure, Science Fiction, Superhero',\n",
       " 'Drama, Sports',\n",
       " 'Comedy, Family, Sports',\n",
       " 'Action-Adventure, Animation, Kids',\n",
       " 'Animals & Nature, Reality',\n",
       " 'Documentary, Historical',\n",
       " 'Docuseries, Historical',\n",
       " 'Anthology, Comedy, Coming of Age',\n",
       " 'Reality',\n",
       " 'Animals & Nature, Docuseries, Medical',\n",
       " 'Animation, Coming of Age, Fantasy',\n",
       " 'Family, Variety',\n",
       " 'Docuseries',\n",
       " 'Action-Adventure, Science Fiction, Spy/Espionage',\n",
       " 'Animation, Buddy, Coming of Age',\n",
       " 'Action-Adventure, Animation, Science Fiction',\n",
       " 'Action-Adventure, Family, Fantasy',\n",
       " 'Animation, Family, Parody',\n",
       " 'Animation, Fantasy, Kids',\n",
       " 'Family, Game Show / Competition',\n",
       " 'Animals & Nature, Docuseries',\n",
       " 'Kids, Music',\n",
       " 'Animation, Science Fiction',\n",
       " 'Animation, Anthology, Science Fiction',\n",
       " 'Animals & Nature, Docuseries, Reality',\n",
       " 'Coming of Age, Drama, Romance',\n",
       " 'Action-Adventure, Animation, Anime',\n",
       " 'Comedy, Romance, Romantic Comedy',\n",
       " 'Animation, Fantasy, Musical',\n",
       " 'Animals & Nature, Documentary',\n",
       " 'Action-Adventure, Animation, Fantasy',\n",
       " 'Comedy, Coming of Age, Family',\n",
       " 'Action-Adventure, Family, Science Fiction',\n",
       " 'Crime, Drama',\n",
       " 'Comedy, Drama, Romance',\n",
       " 'Family, Music, Variety',\n",
       " 'Comedy, Drama, Thriller',\n",
       " 'Action-Adventure, Family, Parody',\n",
       " 'Animation, Kids, Police/Cop',\n",
       " 'Comedy, Family, Science Fiction',\n",
       " 'Action-Adventure, Animation, Anthology',\n",
       " 'Comedy, Drama',\n",
       " 'Animation, Anthology, Family',\n",
       " 'Animation, Buddy, Comedy',\n",
       " 'Animation, Buddy, Kids',\n",
       " 'Talk Show',\n",
       " 'Animals & Nature, Biographical, Documentary',\n",
       " 'Docuseries, Family',\n",
       " 'Action-Adventure, Buddy, Comedy',\n",
       " 'Animals & Nature, Drama, Family',\n",
       " 'Comedy, Coming of Age',\n",
       " 'Animals & Nature, Coming of Age, Drama',\n",
       " 'Animation, Fantasy',\n",
       " 'Action-Adventure, Docuseries, Reality',\n",
       " 'Animation, Kids, Sports',\n",
       " 'Animation, Comedy, Fantasy',\n",
       " 'Comedy, Sports',\n",
       " 'Action-Adventure, Comedy, Coming of Age',\n",
       " 'Action-Adventure, Reality, Survival',\n",
       " 'Action-Adventure, Family',\n",
       " 'Animation, Kids, Western',\n",
       " 'Action-Adventure, Animation, Family',\n",
       " 'Biographical, Coming of Age, Family',\n",
       " 'Action-Adventure, Comedy, Spy/Espionage',\n",
       " 'Action-Adventure, Fantasy, Science Fiction',\n",
       " 'Action-Adventure, Docuseries, Lifestyle',\n",
       " 'Action-Adventure, Drama, Historical',\n",
       " 'Animation, Dance, Family',\n",
       " 'Drama',\n",
       " 'Coming of Age, Drama',\n",
       " 'Coming of Age, Fantasy',\n",
       " 'Fantasy',\n",
       " 'Animation, Superhero',\n",
       " 'Animals & Nature, Animation, Kids',\n",
       " 'Action-Adventure, Family, Game Show / Competition',\n",
       " 'Biographical, Drama',\n",
       " 'Animation, Comedy, Parody',\n",
       " 'Anthology, Science Fiction',\n",
       " 'Fantasy, Musical',\n",
       " 'Biographical, Documentary, Music',\n",
       " 'Musical, Romance, Western',\n",
       " 'Action-Adventure, Comedy, Crime',\n",
       " 'Comedy, Coming of Age, Kids',\n",
       " 'Comedy, Drama, Sports',\n",
       " 'Animals & Nature, Anthology',\n",
       " 'Action-Adventure, Coming of Age, Family',\n",
       " 'Action-Adventure, Animals & Nature, Drama',\n",
       " 'Family, Kids',\n",
       " 'Action-Adventure, Animation',\n",
       " 'Comedy, Coming of Age, Crime',\n",
       " 'Biographical, Coming of Age, Drama',\n",
       " 'Action-Adventure, Biographical, Drama',\n",
       " 'Animation, Kids, Musical',\n",
       " 'Action-Adventure, Fantasy, Survival',\n",
       " 'Series',\n",
       " 'Animals & Nature, Comedy',\n",
       " 'Comedy, Reality',\n",
       " 'Action-Adventure, Buddy, Science Fiction',\n",
       " 'Animation, Kids, Medical',\n",
       " 'Anthology, Docuseries',\n",
       " 'Comedy, Family, Kids',\n",
       " 'Buddy, Comedy, Docuseries',\n",
       " 'Game Show / Competition, Sports, Variety',\n",
       " 'Comedy, Docuseries, Family',\n",
       " 'Comedy, Fantasy',\n",
       " 'Animation, Comedy, Kids',\n",
       " 'Family, Fantasy, Mystery',\n",
       " 'Variety',\n",
       " 'Comedy, Family, Variety',\n",
       " 'Anthology, Documentary',\n",
       " 'Family, Fantasy, Musical',\n",
       " 'Drama, Fantasy, Mystery',\n",
       " 'Family, Game Show / Competition, Reality',\n",
       " 'Action-Adventure, Docuseries, Fantasy',\n",
       " 'Action-Adventure, Docuseries, Family',\n",
       " 'Action-Adventure, Fantasy, Musical',\n",
       " 'Fantasy, Variety',\n",
       " 'Drama, Music, Romance',\n",
       " 'Biographical, Drama, Sports',\n",
       " 'Action-Adventure, Coming of Age, Drama',\n",
       " 'Action-Adventure, Fantasy, Soap Opera / Melodrama',\n",
       " 'Animals & Nature, Kids, Music',\n",
       " 'Documentary, Music',\n",
       " 'Coming of Age, Drama, Music',\n",
       " 'Action-Adventure, Animation, Buddy',\n",
       " 'Comedy, Variety',\n",
       " 'Docuseries, Reality',\n",
       " 'Biographical, Drama, Music',\n",
       " 'Animals & Nature, Documentary, Survival',\n",
       " 'Drama, Historical',\n",
       " 'Animals & Nature, Documentary, Family',\n",
       " 'Drama, Music',\n",
       " 'Biographical, Drama, Family',\n",
       " 'Anthology, Docuseries, Family',\n",
       " 'Drama, Romance',\n",
       " 'Docuseries, Historical, Reality',\n",
       " 'Documentary, Sports',\n",
       " 'Comedy, Drama, Family',\n",
       " 'Comedy, Parody, Science Fiction',\n",
       " 'Animals & Nature, Kids, Variety',\n",
       " 'Animation, Kids, Music',\n",
       " 'Coming of Age, Fantasy, Musical',\n",
       " 'Action-Adventure, Comedy, Science Fiction',\n",
       " 'Animals & Nature, Docuseries, Kids',\n",
       " 'Docuseries, Kids',\n",
       " 'Animals & Nature, Family, Reality',\n",
       " 'Dance, Music, Musical',\n",
       " 'Comedy, Family, Lifestyle',\n",
       " 'Buddy, Docuseries',\n",
       " 'Documentary, Family, Historical',\n",
       " 'Coming of Age, Drama, Family',\n",
       " 'Historical, Musical',\n",
       " 'Action-Adventure, Crime, Science Fiction',\n",
       " 'Biographical, Historical, Musical',\n",
       " 'Comedy, Coming of Age, Music',\n",
       " 'Animation, Documentary, Family',\n",
       " 'Action-Adventure, Animation, Coming of Age',\n",
       " 'Comedy, Kids',\n",
       " 'Action-Adventure, Crime, Fantasy',\n",
       " 'Comedy, Coming of Age, Medical',\n",
       " 'Drama, Family, Historical',\n",
       " 'Animals & Nature, Comedy, Family',\n",
       " 'Coming of Age, Fantasy, Mystery',\n",
       " 'Crime, Drama, Mystery',\n",
       " 'Animation, Comedy, Crime',\n",
       " 'Comedy, Musical, Romance',\n",
       " 'Action-Adventure, Docuseries, Historical',\n",
       " 'Action-Adventure, Animals & Nature, Family',\n",
       " 'Animation, Family, Sports',\n",
       " 'Action-Adventure, Mystery, Thriller',\n",
       " 'Docuseries, Family, Game Show / Competition',\n",
       " 'Concert Film, Music, Musical',\n",
       " 'Animals & Nature, Family',\n",
       " 'Comedy, Coming of Age, Romance',\n",
       " 'Animation, Family, Historical',\n",
       " 'Coming of Age, Drama, Musical',\n",
       " 'Action-Adventure, Disaster, Drama',\n",
       " 'Action-Adventure, Animation, Musical',\n",
       " 'Docuseries, Family, Lifestyle',\n",
       " 'Comedy, Fantasy, Romance',\n",
       " 'Comedy, Coming of Age, Fantasy',\n",
       " 'Buddy, Comedy, Drama',\n",
       " 'Animation, Family, Romance',\n",
       " 'Coming of Age, Drama, Science Fiction',\n",
       " 'Biographical, Comedy, Family',\n",
       " 'Animals & Nature, Family, Sports',\n",
       " 'Action-Adventure, Animation, Superhero',\n",
       " 'Docuseries, Science Fiction',\n",
       " 'Coming of Age, Documentary, Drama',\n",
       " 'Action-Adventure, Comedy, Fantasy',\n",
       " 'Action-Adventure, Documentary, Historical',\n",
       " 'Buddy, Docuseries, Lifestyle',\n",
       " 'Concert Film, Family, Fantasy',\n",
       " 'Animation, Comedy, Dance',\n",
       " 'Action-Adventure, Animals & Nature, Documentary',\n",
       " 'Coming of Age, Drama, Sports',\n",
       " 'Drama, Family',\n",
       " 'Drama, Family, Musical',\n",
       " 'Animation, Drama, Family',\n",
       " 'Animation, Drama, Kids',\n",
       " 'Animation, Anthology, Fantasy',\n",
       " 'Buddy, Comedy, Coming of Age',\n",
       " 'Animation, Family, Kids',\n",
       " 'Animation, Coming of Age, Family',\n",
       " 'Buddy, Coming of Age, Drama',\n",
       " 'Coming of Age, Docuseries, Family',\n",
       " 'Coming of Age, Music, Musical',\n",
       " 'Comedy, Coming of Age, Science Fiction',\n",
       " 'Drama, Family, Mystery',\n",
       " 'Animation, Comedy, Disaster',\n",
       " 'Sports',\n",
       " 'Comedy, Family, Game Show / Competition',\n",
       " 'Comedy, Mystery',\n",
       " 'Family, Fantasy, Romance',\n",
       " 'Action-Adventure, Family, Historical',\n",
       " 'Documentary, Family, Reality',\n",
       " 'Buddy, Comedy, Family',\n",
       " 'Anthology, Family, Lifestyle',\n",
       " 'Animation, Anthology, Comedy',\n",
       " 'Animation, Kids, Parody',\n",
       " 'Fantasy, Musical, Thriller',\n",
       " 'Family, Lifestyle, Reality',\n",
       " 'Documentary, Family, Variety',\n",
       " 'Biographical, Sports',\n",
       " 'Docuseries, Family, Medical',\n",
       " 'Comedy, Coming of Age, Sports',\n",
       " 'Action-Adventure, Crime, Family',\n",
       " 'Music, Reality',\n",
       " 'Drama, Parody, Science Fiction',\n",
       " 'Action-Adventure, Documentary, Sports',\n",
       " 'Drama, Mystery',\n",
       " 'Coming of Age, Sports',\n",
       " 'Coming of Age, Dance, Drama',\n",
       " 'Animation, Family, Music',\n",
       " 'Animals & Nature, Docuseries, Survival',\n",
       " 'Concert Film, Documentary, Music',\n",
       " 'Comedy, Family, Romantic Comedy',\n",
       " 'Coming of Age, Musical, Romance',\n",
       " 'Coming of Age, Musical',\n",
       " 'Coming of Age, Family, Musical',\n",
       " 'Animals & Nature, Comedy, Coming of Age',\n",
       " 'Biographical, Family, Sports',\n",
       " 'Comedy, Science Fiction',\n",
       " 'Animals & Nature, Documentary, Medical',\n",
       " 'Coming of Age, Dance, Sports',\n",
       " 'Action-Adventure, Coming of Age',\n",
       " 'Animation, Family, Musical',\n",
       " 'Action-Adventure, Documentary, Superhero',\n",
       " 'Buddy, Comedy',\n",
       " 'Drama, Historical, Sports',\n",
       " 'Action-Adventure, Documentary',\n",
       " 'Anthology, Comedy, Kids',\n",
       " 'Drama, Fantasy',\n",
       " 'Action-Adventure, Animals & Nature, Comedy',\n",
       " 'Kids',\n",
       " 'Animals & Nature, Animation, Family',\n",
       " 'Anthology, Comedy, Family',\n",
       " 'Animals & Nature, Coming of Age, Family',\n",
       " 'Family, Fantasy',\n",
       " 'Buddy, Family, Sports',\n",
       " 'Biographical, Drama, Historical',\n",
       " 'Animals & Nature, Biographical, Drama',\n",
       " 'Comedy, Crime, Family',\n",
       " 'Animation, Buddy, Family',\n",
       " 'Fantasy, Kids, Mystery',\n",
       " 'Action-Adventure, Family, Survival',\n",
       " 'Action-Adventure, Western',\n",
       " 'Buddy, Coming of Age, Family',\n",
       " 'Comedy, Family, Western',\n",
       " 'Action-Adventure, Science Fiction, Thriller',\n",
       " 'Animation, Anthology, Kids',\n",
       " 'Action-Adventure, Family, Western',\n",
       " 'Crime, Drama, Family',\n",
       " 'Comedy, Crime, Science Fiction',\n",
       " 'Comedy, Music',\n",
       " 'Action-Adventure, Comedy',\n",
       " 'Animation, Drama, Fantasy',\n",
       " 'Comedy, Family, Romance',\n",
       " 'Action-Adventure, Drama, Family',\n",
       " 'Biographical, Family, Historical',\n",
       " 'Buddy, Comedy, Romance',\n",
       " 'Action-Adventure, Family, Mystery',\n",
       " 'Coming of Age, Drama, Fantasy',\n",
       " 'Comedy, Crime, Fantasy',\n",
       " 'Action-Adventure, Coming of Age, Fantasy',\n",
       " 'Animals & Nature, Docuseries, Travel',\n",
       " 'Coming of Age, Musical, Science Fiction',\n",
       " 'Animation, Family, Mystery',\n",
       " 'Biographical, Comedy, Drama',\n",
       " 'Action-Adventure, Animals & Nature, Animation']"
      ]
     },
     "execution_count": 23,
     "metadata": {},
     "output_type": "execute_result"
    }
   ],
   "source": [
    "list_of_elements(data,10)"
   ]
  },
  {
   "attachments": {},
   "cell_type": "markdown",
   "metadata": {},
   "source": [
    "## Step 7: Get the unique list of above categories and then the count in each category ##"
   ]
  },
  {
   "cell_type": "markdown",
   "metadata": {},
   "source": [
    "### Function description and output overview\n",
    "\n",
    "From the output of `step 6`, it is clear that there are multiple genres listed in single row.\n",
    "\n",
    "So, a movie might be listed in animation as well as family.\n",
    "\n",
    "The function `elements_count` should return:\n",
    "  - The key value pair where\n",
    "    - key is the unique element\n",
    "    - value is the count of movies or TV shows or both with that unique element\n",
    "\n",
    "The function will take the following as parameters:\n",
    "1. `my_data_local`\n",
    "2. `col_index_local`\n",
    "3. `sep_local`which separates each items in one single cell. So if it is listed in 'animation, family', it should be considered in the count for both the genres\n",
    "\n",
    "For example, I want to get unique values and corresponding count in `listed_in`column in `disney_movies`.\n",
    "I will call this function on `disney_movies` and the output will be:\n",
    "\n",
    "<style>\n",
    "    .code_block {\n",
    "        background-color: #ff795c;\n",
    "        color: white;\n",
    "    }\n",
    "</style>\n",
    "\n",
    "<div class=\"code_block\">\n",
    "\n",
    "{'Family': 533, 'Comedy': 407, 'Animation': 381, 'Action-Adventure': 314, 'Documentary': 174, 'Fantasy': 158, 'Coming of Age': 153, 'Animals & Nature': 130, 'Drama': 121, 'Science Fiction': 76, 'Biographical': 41, 'Musical': 40, 'Kids': 39, 'Music': 38, 'Sports': 38, 'Historical': 38, 'Buddy': 24, 'Romance': 19, 'Superhero': 16, 'Crime': 16, 'Mystery': 8, 'Concert Film': 7, 'Variety': 7, 'Parody': 7, 'Anthology': 7, 'Dance': 6, 'Thriller': 5, 'Western': 5, 'Reality': 4, 'Lifestyle': 3, 'Movies': 3, 'Survival': 3, 'Spy/Espionage': 2, 'Romantic Comedy': 2, 'Medical': 2, 'Disaster': 2}"
   ]
  },
  {
   "cell_type": "markdown",
   "metadata": {},
   "source": [
    "### Pseudocode\n",
    "<span style=\"color:#fc5a37\"> UPDATE </span> the Pseudocode below for the requirement above.\n",
    "\n",
    "def elements_count(Give the parameters along with default values):\n",
    "\n",
    "  1. Create an empty dictionary and assign it to `element_count_dict`\n",
    "\n",
    "  2. Write a for loop to iterate over each row element in `my_data_local`\n",
    "      - If element in the row at `col_index_local`is not in the key of `element_count_dict`, add it and initialize the value to 1.\n",
    "      - If element in the row at `col_index_local`is in the `element_count_dict`, increment the value by 1.\n",
    "\n",
    "  3. Sort the dictionary based on the corresponding values in descending order. \n",
    "      \n",
    "  3. Return `element_count_dict`"
   ]
  },
  {
   "cell_type": "markdown",
   "metadata": {},
   "source": [
    "### Function definition\n",
    "Update the function definition below. Include DocString that would explain what this function does."
   ]
  },
  {
   "cell_type": "code",
   "execution_count": 25,
   "metadata": {},
   "outputs": [],
   "source": [
    "def elements_count(my_data_local, col_index_local, sep_local):\n",
    "    '''\n",
    "    This function cleans the dictionary of counted elements in a specific column of the data \n",
    "    and returns a new dictionary with no mistakenly duplicated elements, sorted per value in a descending order.\n",
    "    The parameters are:\n",
    "        1) my local data: the data source we want to use\n",
    "        2) the column index number (mind the index number for the 1st column is 0)\n",
    "        3) the separating/cleaning reference\n",
    "            (standard would be the following string, consisting of a comma and a blank space: \", \")\n",
    "    '''\n",
    "    element_count_dict = {}\n",
    "    for entry in my_data_local:\n",
    "        entry_count = entry[col_index_local]\n",
    "        separated_count = (entry_count.strip()).split(sep_local)\n",
    "        for element in separated_count:\n",
    "            if element not in element_count_dict:\n",
    "                element_count_dict[element] = 1\n",
    "            else:\n",
    "                element_count_dict[element] += 1\n",
    "    return dict(sorted(element_count_dict.items(), key=lambda item: item[1], reverse=True))"
   ]
  },
  {
   "cell_type": "code",
   "execution_count": 26,
   "metadata": {},
   "outputs": [
    {
     "data": {
      "text/plain": [
       "{'Family': 533,\n",
       " 'Comedy': 407,\n",
       " 'Animation': 381,\n",
       " 'Action-Adventure': 314,\n",
       " 'Documentary': 174,\n",
       " 'Fantasy': 158,\n",
       " 'Coming of Age': 153,\n",
       " 'Animals & Nature': 130,\n",
       " 'Drama': 121,\n",
       " 'Science Fiction': 76,\n",
       " 'Biographical': 41,\n",
       " 'Musical': 40,\n",
       " 'Kids': 39,\n",
       " 'Music': 38,\n",
       " 'Sports': 38,\n",
       " 'Historical': 38,\n",
       " 'Buddy': 24,\n",
       " 'Romance': 19,\n",
       " 'Superhero': 16,\n",
       " 'Crime': 16,\n",
       " 'Mystery': 8,\n",
       " 'Concert Film': 7,\n",
       " 'Variety': 7,\n",
       " 'Parody': 7,\n",
       " 'Anthology': 7,\n",
       " 'Dance': 6,\n",
       " 'Thriller': 5,\n",
       " 'Western': 5,\n",
       " 'Reality': 4,\n",
       " 'Lifestyle': 3,\n",
       " 'Movies': 3,\n",
       " 'Survival': 3,\n",
       " 'Spy/Espionage': 2,\n",
       " 'Romantic Comedy': 2,\n",
       " 'Medical': 2,\n",
       " 'Disaster': 2}"
      ]
     },
     "execution_count": 26,
     "metadata": {},
     "output_type": "execute_result"
    }
   ],
   "source": [
    "elements_count(disney_movies, 10, \", \")"
   ]
  },
  {
   "attachments": {},
   "cell_type": "markdown",
   "metadata": {},
   "source": [
    "### Calling Function\n",
    "Use above created function to print the unique list of Genres which is in the column `listed-in`.\n",
    "\n",
    "It should print this separately for `Movies` and `TV Shows`."
   ]
  },
  {
   "cell_type": "code",
   "execution_count": 27,
   "metadata": {},
   "outputs": [
    {
     "data": {
      "text/plain": [
       "{'Family': 533,\n",
       " 'Comedy': 407,\n",
       " 'Animation': 381,\n",
       " 'Action-Adventure': 314,\n",
       " 'Documentary': 174,\n",
       " 'Fantasy': 158,\n",
       " 'Coming of Age': 153,\n",
       " 'Animals & Nature': 130,\n",
       " 'Drama': 121,\n",
       " 'Science Fiction': 76,\n",
       " 'Biographical': 41,\n",
       " 'Musical': 40,\n",
       " 'Kids': 39,\n",
       " 'Music': 38,\n",
       " 'Sports': 38,\n",
       " 'Historical': 38,\n",
       " 'Buddy': 24,\n",
       " 'Romance': 19,\n",
       " 'Superhero': 16,\n",
       " 'Crime': 16,\n",
       " 'Mystery': 8,\n",
       " 'Concert Film': 7,\n",
       " 'Variety': 7,\n",
       " 'Parody': 7,\n",
       " 'Anthology': 7,\n",
       " 'Dance': 6,\n",
       " 'Thriller': 5,\n",
       " 'Western': 5,\n",
       " 'Reality': 4,\n",
       " 'Lifestyle': 3,\n",
       " 'Movies': 3,\n",
       " 'Survival': 3,\n",
       " 'Spy/Espionage': 2,\n",
       " 'Romantic Comedy': 2,\n",
       " 'Medical': 2,\n",
       " 'Disaster': 2}"
      ]
     },
     "execution_count": 27,
     "metadata": {},
     "output_type": "execute_result"
    }
   ],
   "source": [
    "elements_count(disney_movies, 10, \", \")"
   ]
  },
  {
   "cell_type": "code",
   "execution_count": 28,
   "metadata": {},
   "outputs": [
    {
     "data": {
      "text/plain": [
       "{'Animation': 161,\n",
       " 'Action-Adventure': 138,\n",
       " 'Docuseries': 122,\n",
       " 'Comedy': 119,\n",
       " 'Kids': 102,\n",
       " 'Family': 99,\n",
       " 'Animals & Nature': 78,\n",
       " 'Coming of Age': 52,\n",
       " 'Fantasy': 34,\n",
       " 'Reality': 22,\n",
       " 'Anthology': 21,\n",
       " 'Buddy': 16,\n",
       " 'Historical': 15,\n",
       " 'Science Fiction': 15,\n",
       " 'Drama': 13,\n",
       " 'Music': 10,\n",
       " 'Game Show / Competition': 10,\n",
       " 'Survival': 6,\n",
       " 'Sports': 5,\n",
       " 'Lifestyle': 5,\n",
       " 'Variety': 5,\n",
       " 'Medical': 4,\n",
       " 'Anime': 4,\n",
       " 'Musical': 4,\n",
       " 'Mystery': 4,\n",
       " 'Superhero': 3,\n",
       " 'Series': 3,\n",
       " 'Western': 2,\n",
       " 'Soap Opera / Melodrama': 2,\n",
       " 'Parody': 2,\n",
       " 'Police/Cop': 1,\n",
       " 'Talk Show': 1,\n",
       " 'Romance': 1,\n",
       " 'Spy/Espionage': 1,\n",
       " 'Travel': 1}"
      ]
     },
     "execution_count": 28,
     "metadata": {},
     "output_type": "execute_result"
    }
   ],
   "source": [
    "elements_count(disney_shows, 10, \", \")"
   ]
  },
  {
   "attachments": {},
   "cell_type": "markdown",
   "metadata": {},
   "source": [
    "Fill the blanks below manually based on the output in the above two cells.\n",
    "\n",
    "The maximum movies are listed in \"Family\" followed by \"Comedy\".\n",
    "\n",
    "The maximum Shows are listed in \"Animation\" followed by \"Action-Adventure\"."
   ]
  },
  {
   "attachments": {},
   "cell_type": "markdown",
   "metadata": {},
   "source": [
    "## Step 8: What is the average duration of movies and shows ##"
   ]
  },
  {
   "cell_type": "markdown",
   "metadata": {},
   "source": [
    "### Function description and output overview\n",
    "\n",
    "You need to write two functions for this step:\n",
    "\n",
    "1. The duration of movies is in minutes and shows in seasons.\n",
    "\n",
    "    Define function `duration_conversion`that will remove the suffix <span style=\"color:#fc5a37\"> minutes </span> and <span style=\"color:#fc5a37\"> seasons </span> and convert them to numeric.\n",
    "\n",
    "    This should take below parameters:\n",
    "\n",
    "    a. my_data_local\n",
    "\n",
    "    b. col_index_local\n",
    "\n",
    "2. Create a function `average` that will create the average of all the values in a column in given dataset.\n",
    "\n",
    "    This should take below parameters:\n",
    "\n",
    "    a. my_data_local\n",
    "    \n",
    "    b. col_index_local"
   ]
  },
  {
   "cell_type": "markdown",
   "metadata": {},
   "source": [
    "### Pseudocode\n",
    "\n",
    "1. Write pseudocode for function `duration_conversion`that will delete any suffixes after the space.\n",
    "\n",
    "2. Write pseudcode for function `average`"
   ]
  },
  {
   "cell_type": "markdown",
   "metadata": {},
   "source": [
    "### Function definition\n",
    "Update the function definition for `duration_conversion`and `average`."
   ]
  },
  {
   "cell_type": "code",
   "execution_count": 15,
   "metadata": {},
   "outputs": [],
   "source": [
    "def duration_conversion(my_data_local, col_index_local):\n",
    "    '''\n",
    "    This function removes the suffix minutes and seasons and converts them to numeric.\n",
    "    The parameters are:\n",
    "        1) my local data: the data source we want to use\n",
    "        2) the column index number (mind the index number for the 1st column is 0)\n",
    "    '''\n",
    "    return data_l"
   ]
  },
  {
   "cell_type": "code",
   "execution_count": 16,
   "metadata": {},
   "outputs": [],
   "source": [
    "def average(...):\n"
   ]
  },
  {
   "attachments": {},
   "cell_type": "markdown",
   "metadata": {},
   "source": [
    "### Calling functions\n",
    "Use the newly created functions to calculate the average duration for movies. \n",
    "\n",
    "You will have to first call the function `duration_conversion` on disney_movies to convert the duration to numeric. \n",
    "\n",
    "Also, remember to store this in another data list `disney_movies_mod`. \n",
    "\n",
    "Now call your average function using this new data list to calculate the average duration of movies. \n",
    "\n",
    "The expected output is:\n",
    "\n",
    "<style>\n",
    "    .code_block {\n",
    "        background-color: #ff795c;\n",
    "        color: white;\n",
    "    }\n",
    "</style>\n",
    "\n",
    "<div class=\"code_block\">\n",
    "Average Duration of Movies in minutes:  71.9106463878327"
   ]
  },
  {
   "cell_type": "code",
   "execution_count": 17,
   "metadata": {},
   "outputs": [],
   "source": []
  },
  {
   "cell_type": "code",
   "execution_count": null,
   "metadata": {},
   "outputs": [],
   "source": []
  },
  {
   "cell_type": "code",
   "execution_count": null,
   "metadata": {},
   "outputs": [],
   "source": [
    "print(\"Average Duration of Movies in minutes: \", ....)"
   ]
  },
  {
   "attachments": {},
   "cell_type": "markdown",
   "metadata": {},
   "source": [
    " Now Calculate the average duration for TV Shows. \n",
    " \n",
    " The Expected output is:\n",
    "\n",
    "<style>\n",
    "    .code_block {\n",
    "        background-color: #ff795c;\n",
    "        color: white;\n",
    "    }\n",
    "</style>\n",
    "\n",
    "<div class=\"code_block\">\n",
    " The average duration of TV shows is 2 seasons."
   ]
  },
  {
   "cell_type": "code",
   "execution_count": null,
   "metadata": {},
   "outputs": [],
   "source": []
  },
  {
   "cell_type": "code",
   "execution_count": null,
   "metadata": {},
   "outputs": [],
   "source": []
  },
  {
   "cell_type": "markdown",
   "metadata": {},
   "source": []
  },
  {
   "attachments": {},
   "cell_type": "markdown",
   "metadata": {},
   "source": [
    "## (OPTIONAL) Step 9: Can you make your function more robust? ##\n",
    "\n",
    "### Function description and output overview\n",
    "Make a function `filter_data` to filter the data based on criteria in the input.\n",
    "\n",
    "Use this function `filter_data` in `elements_count` to generate statistics for filtered data. \n",
    "\n",
    "For example, if your content manager asks you to provide the count of movies based on genre only in Germany. \n",
    "\n",
    "You start working on the function and after some time he wants the data only for the year 2004. \n",
    "\n",
    "With this ever changing filtering criteria, you decide to make your function handle this dynamic changing filtering list. \n",
    "\n",
    "You now accept the filtering criteria in a dictionary. Where keys are the column index and value are the respective filter values.\n",
    "\n",
    "If I want to print the count of movies based on genre and without any filtering criteria. \n",
    "\n",
    "We need to just call the function like this:\n",
    "\n",
    "print(items_count(disney_movies, 10, ',', {}))\n",
    "\n",
    "The output should look like:\n",
    "\n",
    "<style>\n",
    "    .code_block {\n",
    "        background-color: #ff795c;\n",
    "        color: white;\n",
    "    }\n",
    "</style>\n",
    "\n",
    "<div class=\"code_block\">\n",
    "\n",
    "{'Family': 533, 'Comedy': 407, 'Animation': 381, 'Action-Adventure': 314, 'Documentary': 174, 'Fantasy': 158, 'Coming of Age': 153, 'Animals & Nature': 130, 'Drama': 121, 'Science Fiction': 76, 'Biographical': 41, 'Musical': 40, 'Kids': 39, 'Music': 38, 'Sports': 38, 'Historical': 38, 'Buddy': 24, 'Romance': 19, 'Superhero': 16, 'Crime': 16, 'Mystery': 8, 'Concert Film': 7, 'Variety': 7, 'Parody': 7, 'Anthology': 7, 'Dance': 6, 'Thriller': 5, 'Western': 5, 'Reality': 4, 'Lifestyle': 3, 'Movies': 3, 'Survival': 3, 'Spy/Espionage': 2, 'Romantic Comedy': 2, 'Medical': 2, 'Disaster': 2}"
   ]
  },
  {
   "cell_type": "code",
   "execution_count": null,
   "metadata": {},
   "outputs": [],
   "source": [
    "def filter_data(row_local, filter_local):\n",
    "    ''' \n",
    "    This function will take one row of the data at a time and also the filter criteria in the form of a dictionary where key is the column location and the value is the filter value expected.\n",
    "    '''\n",
    "    include_row_ll = True # By default, the row qualifies for the filtering criteria\n",
    "    # Write a for loop that will loop over all the key value pairs of the filters and check the values in the row.\n",
    "    # Inside for loop, write a if-else that will check if there are \",\" in that field. If yes, then create a list out of it splitting it and then checking each value for the filter values. Else, directly check it for the filter values.\n",
    "\n",
    "        \n",
    "\n",
    "\n",
    "        "
   ]
  },
  {
   "cell_type": "code",
   "execution_count": null,
   "metadata": {},
   "outputs": [],
   "source": [
    "def elements_count(data_local, loc_local, sep_local, filters_local):\n",
    "    #use `filter_data` function within this function\n",
    "\n",
    "    "
   ]
  },
  {
   "cell_type": "markdown",
   "metadata": {},
   "source": [
    "### Calling function\n",
    "\n",
    "Print the count of movies based on genre and without any filtering criteria."
   ]
  },
  {
   "cell_type": "code",
   "execution_count": null,
   "metadata": {},
   "outputs": [],
   "source": [
    "print(elements_count("
   ]
  },
  {
   "attachments": {},
   "cell_type": "markdown",
   "metadata": {},
   "source": [
    "Now, print the count of movies based on genre and only for Germany. So you will have to give the filter criteria as {5: 'Germany'}"
   ]
  },
  {
   "cell_type": "code",
   "execution_count": null,
   "metadata": {},
   "outputs": [],
   "source": [
    "print(elements_count("
   ]
  },
  {
   "attachments": {},
   "cell_type": "markdown",
   "metadata": {},
   "source": [
    "Now, print the count of movies based on genre and only for Germany and that too only for year 2004. Now the filter to be used is {5: 'Germany', 7: '2004'}\n",
    "\n",
    "The expected output is:\n",
    "\n",
    "<style>\n",
    "    .code_block {\n",
    "        background-color: #ff795c;\n",
    "        color: white;\n",
    "    }\n",
    "</style>\n",
    "\n",
    "<div class=\"code_block\">\n",
    "{'Comedy': 2, 'Action-Adventure': 1, 'Family': 1, 'Coming of Age': 1}"
   ]
  },
  {
   "cell_type": "code",
   "execution_count": null,
   "metadata": {},
   "outputs": [],
   "source": [
    "print(elements_count("
   ]
  }
 ],
 "metadata": {
  "kernelspec": {
   "display_name": "Python 3 (ipykernel)",
   "language": "python",
   "name": "python3"
  },
  "language_info": {
   "codemirror_mode": {
    "name": "ipython",
    "version": 3
   },
   "file_extension": ".py",
   "mimetype": "text/x-python",
   "name": "python",
   "nbconvert_exporter": "python",
   "pygments_lexer": "ipython3",
   "version": "3.12.4"
  },
  "vscode": {
   "interpreter": {
    "hash": "619b955346cbfe204b67180c22b650d924d6345250d3da715f150ba579a03d34"
   }
  }
 },
 "nbformat": 4,
 "nbformat_minor": 4
}
